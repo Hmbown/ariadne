{
 "cells": [
  {
   "cell_type": "markdown",
   "metadata": {},
   "source": [
    "# QSVM Playground\n",
    "Simple outline using feature-map circuits. For end-to-end QSVM, install `qiskit-machine-learning`."
   ]
  },
  {
   "cell_type": "code",
   "execution_count": null,
   "metadata": {},
   "outputs": [],
   "source": [
    "from ariadne import simulate\n",
    "from qiskit import QuantumCircuit\n",
    "import itertools, math\n",
    "\n",
    "def z_feature_map(x: list[float]) -> QuantumCircuit:\n",
    "    n = len(x)\n",
    "    qc = QuantumCircuit(n, n)\n",
    "    for i in range(n):\n",
    "        qc.h(i)\n",
    "        qc.rz(x[i], i)\n",
    "    for i, j in itertools.combinations(range(n), 2):\n",
    "        qc.cx(i, j); qc.rz((x[i] * x[j]) % (2*math.pi), j); qc.cx(i, j)\n",
    "    qc.measure_all()\n",
    "    return qc\n",
    "\n",
    "x = [0.1, 0.5, 0.2]\n",
    "qc = z_feature_map(x)\n",
    "result = simulate(qc, shots=1024, backend=None)\n",
    "result.backend_used, result.counts\n"
   ]
  }
 ],
 "metadata": {
  "kernelspec": {
   "display_name": "Python 3",
   "language": "python",
   "name": "python3"
  },
  "language_info": {
   "name": "python",
   "version": "3.11"
  }
 },
 "nbformat": 4,
 "nbformat_minor": 5
}
