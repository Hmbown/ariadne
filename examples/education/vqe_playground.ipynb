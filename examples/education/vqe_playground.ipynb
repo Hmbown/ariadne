{
 "cells": [
  {
   "cell_type": "markdown",
   "metadata": {},
   "source": [
    "# VQE Playground\n",
    "Run a simple hardware-efficient ansatz (HEA) circuit and compare backends."
   ]
  },
  {
   "cell_type": "code",
   "execution_count": null,
   "metadata": {},
   "outputs": [],
   "source": [
    "from ariadne.reproducibility import cross_validate, default_backends\n",
    "from qiskit import QuantumCircuit\n",
    "\n",
    "# Load a pre-generated VQE HEA dataset circuit (10 qubits)\n",
    "report = cross_validate('vqe_hea_d2_10', backends=default_backends(), shots=1024, tolerance=0.08)\n",
    "report"
   ]
  }
 ],
 "metadata": {
  "kernelspec": {
   "display_name": "Python 3",
   "language": "python",
   "name": "python3"
  },
  "language_info": {
   "name": "python",
   "version": "3.11"
  }
 },
 "nbformat": 4,
 "nbformat_minor": 5
}
