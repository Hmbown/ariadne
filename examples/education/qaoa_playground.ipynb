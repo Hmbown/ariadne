{
 "cells": [
  {
   "cell_type": "markdown",
   "metadata": {},
   "source": [
    "# QAOA Playground\n",
    "A minimal QAOA-on-a-ring example to explore backend behavior."
   ]
  },
  {
   "cell_type": "code",
   "execution_count": null,
   "metadata": {},
   "outputs": [],
   "source": [
    "from ariadne import simulate\n",
    "from qiskit import QuantumCircuit\n",
    "import numpy as np\n",
    "\n",
    "def ring_maxcut_qaoa(n=6, p=1, gamma=0.7, beta=0.5):\n",
    "    qc = QuantumCircuit(n, n)\n",
    "    # Initial state H^{\"n\"}\n",
    "    for i in range(n):\n",
    "        qc.h(i)\n",
    "    # Cost layer (ZZ on ring)\n",
    "    for i in range(n):\n",
    "        j = (i + 1) % n\n",
    "        qc.cx(i, j)\n",
    "        qc.rz(2 * gamma, j)\n",
    "        qc.cx(i, j)\n",
    "    # Mixer layer RX\n",
    "    for i in range(n):\n",
    "        qc.rx(2 * beta, i)\n",
    "    qc.measure_all()\n",
    "    return qc\n",
    "\n",
    "qc = ring_maxcut_qaoa(n=6, p=1)\n",
    "result = simulate(qc, shots=2048, backend=None)  # auto-route\n",
    "result.backend_used, result.counts\n"
   ]
  }
 ],
 "metadata": {
  "kernelspec": {
   "display_name": "Python 3",
   "language": "python",
   "name": "python3"
  },
  "language_info": {
   "name": "python",
   "version": "3.11"
  }
 },
 "nbformat": 4,
 "nbformat_minor": 5
}
