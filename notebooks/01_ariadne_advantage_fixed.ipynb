{
 "cells": [
  {
   "cell_type": "markdown",
   "metadata": {},
   "source": [
    "# 01 - The Ariadne Advantage: Intelligent Routing Demonstration\n",
    "\n",
    "This notebook showcases Ariadne's prioritized filter chain in action. We walk through two representative circuits:\n",
    "\n",
    "1. A **low-entanglement, non-Clifford** chain that routes to the Matrix Product State (MPS) backend.\n",
    "2. A **high-entanglement** circuit that is rejected by the specialized filters and falls back to the dense simulator.\n",
    "\n",
    "Run each cell sequentially to reproduce the routing decisions and confidence scores.\n"
   ]
  },
  {
   "cell_type": "code",
   "execution_count": null,
   "metadata": {},
   "outputs": [],
   "source": [
    "# Install Ariadne (prefer release builds, fallback to latest main)\n",
    "!pip install -q --upgrade \"ariadne-router>=0.4.2\" || pip install -q git+https://github.com/Hmbown/ariadne.git"
   ]
  },
  {
   "cell_type": "code",
   "execution_count": null,
   "metadata": {},
   "outputs": [],
   "source": [
    "import numpy as np\n",
    "from qiskit import QuantumCircuit\n",
    "\n",
    "from ariadne import __version__, explain_routing, simulate\n",
    "\n",
    "print(f\"Ariadne version: {__version__}\")"
   ]
  },
  {
   "cell_type": "markdown",
   "metadata": {},
   "source": [
    "## Case 1: Low Entanglement Circuit (MPS Candidate)\n",
    "\n",
    "We build a 25-qubit nearest-neighbor chain with shallow depth. Lightweight `ry` rotations on alternating qubits break the Clifford structure while keeping entanglement growth minimal. The router should select the MPS backend with high confidence.\n"
   ]
  },
  {
   "cell_type": "code",
   "execution_count": null,
   "metadata": {},
   "outputs": [],
   "source": [
    "# Low entanglement circuit (25 qubits, shallow depth, local interactions)\n",
    "N_LOW = 25\n",
    "qc_low = QuantumCircuit(N_LOW)\n",
    "qc_low.h(range(N_LOW))\n",
    "for i in range(0, N_LOW, 2):\n",
    "    qc_low.ry(np.pi / 8, i)\n",
    "for i in range(0, N_LOW - 1, 2):\n",
    "    qc_low.cx(i, i + 1)\n",
    "qc_low.measure_all()\n",
    "\n",
    "print(f\"Low entanglement circuit: {N_LOW} qubits, depth {qc_low.depth()}\")\n",
    "print(\"Routing explanation:\")\n",
    "print(explain_routing(qc_low))"
   ]
  },
  {
   "cell_type": "code",
   "execution_count": null,
   "metadata": {},
   "outputs": [],
   "source": [
    "# Simulate the circuit\n",
    "result_low = simulate(qc_low, shots=200)\n",
    "\n",
    "print(\"\\n--- Low Entanglement Circuit Routing ---\")\n",
    "print(f\"Backend Selected: {result_low.backend_used.value}\")\n",
    "print(f\"Execution Time: {result_low.execution_time:.4f}s\")\n",
    "print(f\"Confidence Score: {result_low.routing_decision.confidence_score:.3f}\")\n",
    "print(f\"Throughput: {200 / max(result_low.execution_time, 1e-6):.0f} shots/sec\")\n",
    "print(f\"Sample results (first 5 states): {dict(list(result_low.counts.items())[:5])}\")"
   ]
  },
  {
   "cell_type": "markdown",
   "metadata": {},
   "source": [
    "## Case 2: High Entanglement Circuit (Dense Backend Candidate)\n",
    "\n",
    "We now create a 10-qubit circuit with multiple non-local entangling layers. The entanglement growth invalidates the MPS heuristic, so the router falls back to the fastest dense backend available (for example, Qiskit Aer).\n"
   ]
  },
  {
   "cell_type": "code",
   "execution_count": null,
   "metadata": {},
   "outputs": [],
   "source": [
    "# High entanglement circuit (10 qubits, deep, highly non-local)\n",
    "N_HIGH = 10\n",
    "qc_high = QuantumCircuit(N_HIGH)\n",
    "for _ in range(5):  # 5 layers of entanglement\n",
    "    for i in range(N_HIGH):\n",
    "        qc_high.rx(np.pi / 4, i)\n",
    "    for i in range(N_HIGH - 1):\n",
    "        qc_high.cz(i, i + 1)\n",
    "    qc_high.cz(0, N_HIGH - 1)  # Add a non-local edge to raise entanglement\n",
    "    qc_high.barrier()\n",
    "qc_high.measure_all()\n",
    "\n",
    "print(f\"High entanglement circuit: {N_HIGH} qubits, depth {qc_high.depth()}\")\n",
    "print(\"Routing explanation:\")\n",
    "print(explain_routing(qc_high))"
   ]
  },
  {
   "cell_type": "code",
   "execution_count": null,
   "metadata": {},
   "outputs": [],
   "source": [
    "# Simulate the high entanglement circuit\n",
    "result_high = simulate(qc_high, shots=200)\n",
    "\n",
    "print(\"\\n--- High Entanglement Circuit Routing ---\")\n",
    "print(f\"Backend Selected: {result_high.backend_used.value}\")\n",
    "print(f\"Execution Time: {result_high.execution_time:.4f}s\")\n",
    "print(f\"Confidence Score: {result_high.routing_decision.confidence_score:.3f}\")\n",
    "print(f\"Throughput: {200 / max(result_high.execution_time, 1e-6):.0f} shots/sec\")\n",
    "print(f\"Sample results (first 5 states): {dict(list(result_high.counts.items())[:5])}\")"
   ]
  },
  {
   "cell_type": "markdown",
   "metadata": {},
   "source": [
    "## Summary\n",
    "\n",
    "Ariadne's router correctly:\n",
    "\n",
    "1. Analyzes circuit structure to estimate entanglement and sparsity.\n",
    "2. Routes low-entanglement, non-Clifford circuits to the MPS backend.\n",
    "3. Escalates highly entangled circuits to dense simulators automatically.\n",
    "4. Provides transparent explanations and confidence scores for every decision.\n",
    "\n",
    "Just write your quantum circuit — Ariadne handles backend selection, performance tuning, and routing transparency for you.\n"
   ]
  }
 ],
 "metadata": {
  "kernelspec": {
   "display_name": "Python 3",
   "language": "python",
   "name": "python3"
  },
  "language_info": {
   "codemirror_mode": {
    "name": "ipython",
    "version": 3
   },
   "file_extension": ".py",
   "mimetype": "text/x-python",
   "name": "python",
   "nbconvert_exporter": "python",
   "pygments_lexer": "ipython3",
   "version": "3.10.0"
  }
 },
 "nbformat": 4,
 "nbformat_minor": 4
}
