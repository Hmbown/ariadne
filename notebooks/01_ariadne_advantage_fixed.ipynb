{
 "cells": [
  {
   "cell_type": "markdown",
   "metadata": {},
   "source": [
    "# 01 - The Ariadne Advantage: Intelligent Routing Demonstration\n",
    "\n",
    "This notebook demonstrates Ariadne's core feature: the intelligent quantum router. The router analyzes circuit properties, specifically entanglement, to dynamically select the optimal simulation backend (e.g., Matrix Product State (MPS) for low entanglement, or a dense State Vector backend for high entanglement).\n",
    "\n",
    "We will define two circuits and use the router to see the **Prioritized Filter Chain** in action."
   ]
  },
  {
   "cell_type": "code",
   "execution_count": null,
   "metadata": {},
   "outputs": [],
   "source": [
    "!pip install git+https://github.com/Hmbown/ariadne.git --quiet"
   ]
  },
  {
   "cell_type": "code",
   "execution_count": null,
   "metadata": {},
   "outputs": [],
   "source": [
    "import numpy as np\n",
    "from qiskit import QuantumCircuit\n",
    "\n",
    "from ariadne import explain_routing, simulate"
   ]
  },
  {
   "cell_type": "markdown",
   "metadata": {},
   "source": [
    "## Case 1: Low Entanglement Circuit (MPS Candidate)\n",
    "\n",
    "We create a large circuit (N=25) with shallow depth and only nearest-neighbor CNOTs. This structure typically results in low entanglement, making it an ideal candidate for the MPS backend, which scales polynomially with the number of qubits."
   ]
  },
  {
   "cell_type": "code",
   "execution_count": null,
   "metadata": {},
   "outputs": [],
   "source": [
    "# Low Entanglement Circuit (N=25, shallow depth, local gates)\n",
    "N_LOW = 25\n",
    "qc_low = QuantumCircuit(N_LOW)\n",
    "for i in range(N_LOW):\n",
    "    qc_low.h(i)\n",
    "for i in range(0, N_LOW - 1, 2):\n",
    "    qc_low.cx(i, i + 1)\n",
    "qc_low.measure_all()\n",
    "\n",
    "print(f\"Low Entanglement Circuit: {N_LOW} qubits, {qc_low.depth()} depth\")\n",
    "print(\"Estimated entanglement: LOW (nearest-neighbor only)\")\n",
    "print(\"Routing explanation:\")\n",
    "print(explain_routing(qc_low))"
   ]
  },
  {
   "cell_type": "code",
   "execution_count": null,
   "metadata": {},
   "outputs": [],
   "source": [
    "# Simulate the circuit\n",
    "result_low = simulate(qc_low, shots=100)\n",
    "\n",
    "print(\"\\n--- Low Entanglement Circuit Routing ---\")\n",
    "print(f\"✅ Backend Selected: {result_low.backend_used.value}\")\n",
    "print(f\"⏱️  Execution Time: {result_low.execution_time:.4f}s\")\n",
    "print(f\"🎯 Confidence Score: {result_low.routing_decision.confidence_score:.3f}\")\n",
    "print(f\"📊 Throughput: {100/result_low.execution_time:.0f} shots/sec\")\n",
    "print(f\"\\nSample results (first 5 states): {dict(list(result_low.counts.items())[:5])}\")"
   ]
  },
  {
   "cell_type": "markdown",
   "metadata": {},
   "source": [
    "## Case 2: High Entanglement Circuit (Dense State Vector Candidate)\n",
    "\n",
    "We create a smaller circuit (N=10) but with deep, highly non-local entanglement layers. This structure quickly maximizes entanglement, making the MPS approximation inefficient. The router should reject MPS and default to the fastest dense state vector backend available (e.g., Qiskit)."
   ]
  },
  {
   "cell_type": "code",
   "execution_count": null,
   "metadata": {},
   "outputs": [],
   "source": [
    "# High Entanglement Circuit (N=10, deep, highly non-local)\n",
    "N_HIGH = 10\n",
    "qc_high = QuantumCircuit(N_HIGH)\n",
    "for _ in range(5):  # 5 layers of entanglement\n",
    "    for i in range(N_HIGH):\n",
    "        qc_high.rx(np.pi / 4, i)\n",
    "    # Highly entangling layer\n",
    "    for i in range(N_HIGH - 1):\n",
    "        qc_high.cz(i, i + 1)\n",
    "    qc_high.barrier()\n",
    "qc_high.measure_all()\n",
    "\n",
    "print(f\"High Entanglement Circuit: {N_HIGH} qubits, {qc_high.depth()} depth\")\n",
    "print(\"Estimated entanglement: HIGH (deep, non-local layers)\")\n",
    "print(\"Routing explanation:\")\n",
    "print(explain_routing(qc_high))"
   ]
  },
  {
   "cell_type": "code",
   "execution_count": null,
   "metadata": {},
   "outputs": [],
   "source": [
    "# Simulate the circuit\n",
    "result_high = simulate(qc_high, shots=100)\n",
    "\n",
    "print(\"\\n--- High Entanglement Circuit Routing ---\")\n",
    "print(f\"✅ Backend Selected: {result_high.backend_used.value}\")\n",
    "print(f\"⏱️  Execution Time: {result_high.execution_time:.4f}s\")\n",
    "print(f\"🎯 Confidence Score: {result_high.routing_decision.confidence_score:.3f}\")\n",
    "print(f\"📊 Throughput: {100/result_high.execution_time:.0f} shots/sec\")\n",
    "print(f\"\\nSample results (first 5 states): {dict(list(result_high.counts.items())[:5])}\")"
   ]
  },
  {
   "cell_type": "markdown",
   "metadata": {},
   "source": [
    "## Summary\n",
    "\n",
    "As you can see, Ariadne's router correctly:\n",
    "\n",
    "1. **Analyzes circuit structure** to determine entanglement characteristics\n",
    "2. **Selects optimal backend** based on circuit properties\n",
    "3. **Provides transparent routing** with explanations\n",
    "4. **Achieves good performance** on both low and high entanglement circuits\n",
    "\n",
    "The router automatically handles:\n",
    "- **Clifford circuits** → Stim backend (fast stabilizer simulator)\n",
    "- **Low-entanglement** → MPS backend (matrix product states)\n",
    "- **General circuits** → Qiskit backend (reliable fallback)\n",
    "\n",
    "This means you don't need to worry about which backend to use - just write your quantum circuit and Ariadne handles the rest!"
   ]
  }
 ],
 "metadata": {
  "kernelspec": {
   "display_name": "Python 3",
   "language": "python",
   "name": "python3"
  },
  "language_info": {
   "codemirror_mode": {
    "name": "ipython",
    "version": 3
   },
   "file_extension": ".py",
   "mimetype": "text/x-python",
   "name": "python",
   "nbconvert_exporter": "python",
   "pygments_lexer": "ipython3",
   "version": "3.10.0"
  }
 },
 "nbformat": 4,
 "nbformat_minor": 4
}
